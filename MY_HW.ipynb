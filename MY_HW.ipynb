{
 "cells": [
  {
   "cell_type": "markdown",
   "metadata": {},
   "source": [
    "# MY HOMEWORK\n",
    "\n",
    "Question 1\n",
    "\n",
    "1. Interchange the first and second last element of the list.\n",
    "    List = [2,7,8,7,9,3,5,4,1,0,11,12,17]\n"
   ]
  },
  {
   "cell_type": "code",
   "execution_count": 5,
   "metadata": {},
   "outputs": [
    {
     "name": "stdout",
     "output_type": "stream",
     "text": [
      "[12, 7, 8, 7, 9, 3, 5, 4, 1, 0, 11, 2, 17]\n"
     ]
    }
   ],
   "source": [
    "list1 = [2,7,8,7,9,3,5,4,1,0,11,12,17]\n",
    "r=list1[0]\n",
    "list1[0]=list1[len(list1)-2]\n",
    "list1[len(list1)-2]=r\n",
    "print(list1)"
   ]
  },
  {
   "cell_type": "markdown",
   "metadata": {},
   "source": [
    "Question 2. \n",
    "Find the fifth smallest number from the list.\n",
    "    List: [11,2,67,6,26,5,4,76,77]\n"
   ]
  },
  {
   "cell_type": "code",
   "execution_count": 14,
   "metadata": {},
   "outputs": [
    {
     "name": "stdout",
     "output_type": "stream",
     "text": [
      "[2, 4, 5, 6, 11, 26, 67, 76, 77]\n",
      "11\n"
     ]
    }
   ],
   "source": [
    "r=[11,2,67,6,26,5,4,76,77]\n",
    "r_sorted=sorted(r)\n",
    "print(r_sorted)\n",
    "print(r_sorted[4])"
   ]
  },
  {
   "cell_type": "markdown",
   "metadata": {},
   "source": [
    "Question 3\n",
    "Replace the last element in a list with another list.\n",
    "    Original List: [1, 3, 5, 8, 10, 9]    List to add:  [2, 7, 9]\n",
    "    Expected Output: [1, 3, 5, 8, 10, 2, 7, 9] \n"
   ]
  },
  {
   "cell_type": "code",
   "execution_count": 20,
   "metadata": {},
   "outputs": [
    {
     "name": "stdout",
     "output_type": "stream",
     "text": [
      "[1, 3, 5, 8, 10, 2, 7, 9]\n"
     ]
    }
   ],
   "source": [
    "Original_List=[1, 3, 5, 8, 10, 9]    \n",
    "List_to_add=[2, 7, 9]\n",
    "Original_List.pop(len(Original_List)-1)\n",
    "Original_List.extend(List_to_add)\n",
    "print(Original_List)"
   ]
  },
  {
   "cell_type": "markdown",
   "metadata": {},
   "source": [
    "QUESTION 4\n",
    "4. Sort the list and pickup first three values and append to the sorted list.\n",
    "    List: [12,3,4,98,100,75]\n"
   ]
  },
  {
   "cell_type": "code",
   "execution_count": 21,
   "metadata": {},
   "outputs": [
    {
     "name": "stdout",
     "output_type": "stream",
     "text": [
      "[3, 4, 12, 75, 98, 100, 3, 4, 12]\n"
     ]
    }
   ],
   "source": [
    "l=[12,3,4,98,100,75]\n",
    "l.sort()\n",
    "l.append(l[0])\n",
    "l.append(l[1])\n",
    "l.append(l[2])\n",
    "print(l)"
   ]
  },
  {
   "cell_type": "markdown",
   "metadata": {},
   "source": [
    "QUESTION 5\n",
    "5. Find mean of items in the list and check whether mean is present in the list.\n",
    "    List: [1, 2, 5, 8, 9, 10, 0].\n"
   ]
  },
  {
   "cell_type": "code",
   "execution_count": 23,
   "metadata": {},
   "outputs": [
    {
     "name": "stdout",
     "output_type": "stream",
     "text": [
      "5.0\n",
      "YES\n"
     ]
    }
   ],
   "source": [
    "l= [1, 2, 5, 8, 9, 10, 0]\n",
    "mean=0\n",
    "for i in range(len(l)-1):\n",
    "    mean=mean+l[i]\n",
    "    \n",
    "mean/=len(l)\n",
    "print(mean)\n",
    "if mean in l:\n",
    "    print('YES')\n",
    "else:\n",
    "    print(\"NO\")"
   ]
  },
  {
   "cell_type": "markdown",
   "metadata": {},
   "source": [
    "QUESTION\n",
    "6. Given two strings, append each of those strings to two different empty list. Multiply those list by the length of the string present in the corresponding list and then concatenate the two lists.\n",
    "    String 1: “Hello”  String 2: “Ryan”\n",
    "    Expected Output: ['Hello', 'Hello', 'Hello', 'Hello', 'Hello', 'Ryan', 'Ryan', 'Ryan', 'Ryan']\n"
   ]
  },
  {
   "cell_type": "code",
   "execution_count": 17,
   "metadata": {},
   "outputs": [
    {
     "name": "stdout",
     "output_type": "stream",
     "text": [
      "['Hello', 'Hello', 'Hello', 'Hello', 'Hello', 'Ryan', 'Ryan', 'Ryan', 'Ryan']\n"
     ]
    }
   ],
   "source": [
    "String1=\"Hello\"\n",
    "String2=\"Ryan\"\n",
    "t=[]\n",
    "y=[]\n",
    "g=[]\n",
    "\n",
    "t.append(String1)\n",
    "y.append(String2)\n",
    "t=t*len(String1)\n",
    "y=y*len(String2)\n",
    "t=t+y\n",
    "print(t)"
   ]
  },
  {
   "cell_type": "markdown",
   "metadata": {},
   "source": [
    "QUESTION\n",
    "7. Remove the first occurrence of the given string from the list and replace it with its reverse string.\n",
    "    List: [‘Hello’, ‘John’, ‘Noice’, ‘Hello’, ‘again’, ‘Hello’]\n",
    "    String: Hello\n"
   ]
  },
  {
   "cell_type": "code",
   "execution_count": 29,
   "metadata": {},
   "outputs": [
    {
     "name": "stdout",
     "output_type": "stream",
     "text": [
      "['John', 'Noice', 'olleH', 'again', 'Hello', 'Hello']\n"
     ]
    }
   ],
   "source": [
    "list_string=['John', 'Noice', 'Hello', 'again', 'Hello','Hello'] \n",
    "for i in list_string:\n",
    "    if i==\"Hello\":\n",
    "        k=list_string.index(i)\n",
    "        break\n",
    "g=list_string[k]\n",
    "g=g[::-1]\n",
    "list_string.insert(k,g)\n",
    "list_string.pop(k+1)\n",
    "print(list_string)"
   ]
  },
  {
   "cell_type": "code",
   "execution_count": 80,
   "metadata": {},
   "outputs": [
    {
     "name": "stdout",
     "output_type": "stream",
     "text": [
      "y is  ['sun', [17], 2, 'king', [3, 4]]\n",
      "z is  ['sun', [17], 2, 'king', [3, 4]]\n",
      "w is ['sun', [17], 2, 'king', [3, 4]]\n",
      "z is  [0, [17], 2, 'king', [3, 4]]\n",
      "z is  [0, [17, 5, 8], 2, 'king', [1000, 4]]\n",
      "x is  [0, [17, 5, 8], 2, 'king', [1000, 4]]\n",
      "y is ['sunk', [17, 5, 8], 2, 'king', [1000, 4]]\n",
      "w is ['sunk', [17, 5, 8], 2, 'king', [1000, 4]]\n",
      "True\n"
     ]
    }
   ],
   "source": [
    "\n",
    "x = [\"sun\",[17],2,\"king\",[3,4]] # Statement 1\n",
    "y = x[0:8]                      # Statement 2\n",
    "print(\"y is \",y)\n",
    "z = x                           # Statement 3\n",
    "print(\"z is \",z)\n",
    "w = y                           # Statement 4\n",
    "print(\"w is\",w)\n",
    "x[0] = 0                        # Statement 5\n",
    "print(\"z is \",z)\n",
    "\n",
    "y[0] = y[0][0:3] + 'k'          # Statement 6\n",
    "y[1][1:3] = [5,8] \n",
    "w[4][0] = 1000                  # Statement 9\n",
    "a = (x[4][1] == 4)              # Statement 10\n",
    "print(\"z is \",z)\n",
    "print(\"x is \",x)\n",
    "print(\"y is\",y)\n",
    "print(\"w is\",w)\n",
    "print(a)"
   ]
  },
  {
   "cell_type": "code",
   "execution_count": 82,
   "metadata": {},
   "outputs": [
    {
     "name": "stdout",
     "output_type": "stream",
     "text": [
      "487 397 357 487\n"
     ]
    }
   ],
   "source": [
    "x = [589,'big',397,'bash']\n",
    "y = x[2:]\n",
    "u = x\n",
    "w = y\n",
    "w = w[0:]\n",
    "w[0] = 357\n",
    "x[2:3] = [487]\n",
    "print(x[2],y[0],w[0],u[2])"
   ]
  },
  {
   "cell_type": "code",
   "execution_count": 85,
   "metadata": {},
   "outputs": [
    {
     "name": "stdout",
     "output_type": "stream",
     "text": [
      "e\n",
      "oe\n",
      "soe\n",
      "dsoe\n",
      "edsoe\n",
      "aedsoe\n"
     ]
    },
    {
     "data": {
      "text/plain": [
       "'aedsoe'"
      ]
     },
     "execution_count": 85,
     "metadata": {},
     "output_type": "execute_result"
    }
   ],
   "source": [
    "first = \"kaleidoscope\"\n",
    "second = \"\"\n",
    "for i in range(len(first)-1,-1,-2):\n",
    "    second = first[i]+second\n",
    "    print(second)\n",
    "second"
   ]
  },
  {
   "cell_type": "code",
   "execution_count": 86,
   "metadata": {},
   "outputs": [
    {
     "name": "stdout",
     "output_type": "stream",
     "text": [
      "11\n",
      "9\n",
      "7\n",
      "5\n",
      "3\n",
      "1\n"
     ]
    }
   ],
   "source": [
    "for i in range(len(first)-1,-1,-2):\n",
    "    print(i)\n"
   ]
  },
  {
   "cell_type": "code",
   "execution_count": 88,
   "metadata": {},
   "outputs": [
    {
     "name": "stdout",
     "output_type": "stream",
     "text": [
      "[88, 53, 12, 88, 53, 97, 62]\n"
     ]
    }
   ],
   "source": [
    "def mystery(l):\n",
    "    l[0:2] = l[3:5]\n",
    "    return()\n",
    "list1 = [34,17,12,88,53,97,62]\n",
    "mystery(list1)\n",
    "print(list1)"
   ]
  },
  {
   "cell_type": "code",
   "execution_count": null,
   "metadata": {},
   "outputs": [],
   "source": []
  }
 ],
 "metadata": {
  "kernelspec": {
   "display_name": "Python 3",
   "language": "python",
   "name": "python3"
  },
  "language_info": {
   "codemirror_mode": {
    "name": "ipython",
    "version": 3
   },
   "file_extension": ".py",
   "mimetype": "text/x-python",
   "name": "python",
   "nbconvert_exporter": "python",
   "pygments_lexer": "ipython3",
   "version": "3.8.5"
  }
 },
 "nbformat": 4,
 "nbformat_minor": 4
}
