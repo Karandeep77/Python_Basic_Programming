{
 "cells": [
  {
   "cell_type": "markdown",
   "metadata": {},
   "source": [
    "# MY HOMEWORK\n",
    "\n",
    "Question 1\n",
    "\n",
    "1. Interchange the first and second last element of the list.\n",
    "    List = [2,7,8,7,9,3,5,4,1,0,11,12,17]\n"
   ]
  },
  {
   "cell_type": "code",
   "execution_count": 5,
   "metadata": {},
   "outputs": [
    {
     "name": "stdout",
     "output_type": "stream",
     "text": [
      "[12, 7, 8, 7, 9, 3, 5, 4, 1, 0, 11, 2, 17]\n"
     ]
    }
   ],
   "source": [
    "list1 = [2,7,8,7,9,3,5,4,1,0,11,12,17]\n",
    "r=list1[0]\n",
    "list1[0]=list1[len(list1)-2]\n",
    "list1[len(list1)-2]=r\n",
    "print(list1)"
   ]
  },
  {
   "cell_type": "markdown",
   "metadata": {},
   "source": [
    "Question 2. \n",
    "Find the fifth smallest number from the list.\n",
    "    List: [11,2,67,6,26,5,4,76,77]\n"
   ]
  },
  {
   "cell_type": "code",
   "execution_count": 14,
   "metadata": {},
   "outputs": [
    {
     "name": "stdout",
     "output_type": "stream",
     "text": [
      "[2, 4, 5, 6, 11, 26, 67, 76, 77]\n",
      "11\n"
     ]
    }
   ],
   "source": [
    "r=[11,2,67,6,26,5,4,76,77]\n",
    "r_sorted=sorted(r)\n",
    "print(r_sorted)\n",
    "print(r_sorted[4])"
   ]
  },
  {
   "cell_type": "markdown",
   "metadata": {},
   "source": [
    "Question 3\n",
    "Replace the last element in a list with another list.\n",
    "    Original List: [1, 3, 5, 8, 10, 9]    List to add:  [2, 7, 9]\n",
    "    Expected Output: [1, 3, 5, 8, 10, 2, 7, 9] \n"
   ]
  },
  {
   "cell_type": "code",
   "execution_count": 20,
   "metadata": {},
   "outputs": [
    {
     "name": "stdout",
     "output_type": "stream",
     "text": [
      "[1, 3, 5, 8, 10, 2, 7, 9]\n"
     ]
    }
   ],
   "source": [
    "Original_List=[1, 3, 5, 8, 10, 9]    \n",
    "List_to_add=[2, 7, 9]\n",
    "Original_List.pop(len(Original_List)-1)\n",
    "Original_List.extend(List_to_add)\n",
    "print(Original_List)"
   ]
  },
  {
   "cell_type": "markdown",
   "metadata": {},
   "source": [
    "QUESTION 4\n",
    "4. Sort the list and pickup first three values and append to the sorted list.\n",
    "    List: [12,3,4,98,100,75]\n"
   ]
  },
  {
   "cell_type": "code",
   "execution_count": 21,
   "metadata": {},
   "outputs": [
    {
     "name": "stdout",
     "output_type": "stream",
     "text": [
      "[3, 4, 12, 75, 98, 100, 3, 4, 12]\n"
     ]
    }
   ],
   "source": [
    "l=[12,3,4,98,100,75]\n",
    "l.sort()\n",
    "l.append(l[0])\n",
    "l.append(l[1])\n",
    "l.append(l[2])\n",
    "print(l)"
   ]
  },
  {
   "cell_type": "markdown",
   "metadata": {},
   "source": [
    "QUESTION 5\n",
    "5. Find mean of items in the list and check whether mean is present in the list.\n",
    "    List: [1, 2, 5, 8, 9, 10, 0].\n"
   ]
  },
  {
   "cell_type": "code",
   "execution_count": 23,
   "metadata": {},
   "outputs": [
    {
     "name": "stdout",
     "output_type": "stream",
     "text": [
      "5.0\n",
      "YES\n"
     ]
    }
   ],
   "source": [
    "l= [1, 2, 5, 8, 9, 10, 0]\n",
    "mean=0\n",
    "for i in range(len(l)-1):\n",
    "    mean=mean+l[i]\n",
    "    \n",
    "mean/=len(l)\n",
    "print(mean)\n",
    "if mean in l:\n",
    "    print('YES')\n",
    "else:\n",
    "    print(\"NO\")"
   ]
  },
  {
   "cell_type": "markdown",
   "metadata": {},
   "source": [
    "QUESTION\n",
    "6. Given two strings, append each of those strings to two different empty list. Multiply those list by the length of the string present in the corresponding list and then concatenate the two lists.\n",
    "    String 1: “Hello”  String 2: “Ryan”\n",
    "    Expected Output: ['Hello', 'Hello', 'Hello', 'Hello', 'Hello', 'Ryan', 'Ryan', 'Ryan', 'Ryan']\n"
   ]
  },
  {
   "cell_type": "code",
   "execution_count": 17,
   "metadata": {},
   "outputs": [
    {
     "name": "stdout",
     "output_type": "stream",
     "text": [
      "['Hello', 'Hello', 'Hello', 'Hello', 'Hello', 'Ryan', 'Ryan', 'Ryan', 'Ryan']\n"
     ]
    }
   ],
   "source": [
    "String1=\"Hello\"\n",
    "String2=\"Ryan\"\n",
    "t=[]\n",
    "y=[]\n",
    "g=[]\n",
    "\n",
    "t.append(String1)\n",
    "y.append(String2)\n",
    "t=t*len(String1)\n",
    "y=y*len(String2)\n",
    "t=t+y\n",
    "print(t)"
   ]
  },
  {
   "cell_type": "markdown",
   "metadata": {},
   "source": [
    "QUESTION\n",
    "7. Remove the first occurrence of the given string from the list and replace it with its reverse string.\n",
    "    List: [‘Hello’, ‘John’, ‘Noice’, ‘Hello’, ‘again’, ‘Hello’]\n",
    "    String: Hello\n"
   ]
  },
  {
   "cell_type": "code",
   "execution_count": 29,
   "metadata": {},
   "outputs": [
    {
     "name": "stdout",
     "output_type": "stream",
     "text": [
      "['John', 'Noice', 'olleH', 'again', 'Hello', 'Hello']\n"
     ]
    }
   ],
   "source": [
    "list_string=['John', 'Noice', 'Hello', 'again', 'Hello','Hello'] \n",
    "for i in list_string:\n",
    "    if i==\"Hello\":\n",
    "        k=list_string.index(i)\n",
    "        break\n",
    "g=list_string[k]\n",
    "g=g[::-1]\n",
    "list_string.insert(k,g)\n",
    "list_string.pop(k+1)\n",
    "print(list_string)"
   ]
  },
  {
   "cell_type": "code",
   "execution_count": 80,
   "metadata": {},
   "outputs": [
    {
     "name": "stdout",
     "output_type": "stream",
     "text": [
      "y is  ['sun', [17], 2, 'king', [3, 4]]\n",
      "z is  ['sun', [17], 2, 'king', [3, 4]]\n",
      "w is ['sun', [17], 2, 'king', [3, 4]]\n",
      "z is  [0, [17], 2, 'king', [3, 4]]\n",
      "z is  [0, [17, 5, 8], 2, 'king', [1000, 4]]\n",
      "x is  [0, [17, 5, 8], 2, 'king', [1000, 4]]\n",
      "y is ['sunk', [17, 5, 8], 2, 'king', [1000, 4]]\n",
      "w is ['sunk', [17, 5, 8], 2, 'king', [1000, 4]]\n",
      "True\n"
     ]
    }
   ],
   "source": [
    "\n",
    "x = [\"sun\",[17],2,\"king\",[3,4]] # Statement 1\n",
    "y = x[0:8]                      # Statement 2\n",
    "print(\"y is \",y)\n",
    "z = x                           # Statement 3\n",
    "print(\"z is \",z)\n",
    "w = y                           # Statement 4\n",
    "print(\"w is\",w)\n",
    "x[0] = 0                        # Statement 5\n",
    "print(\"z is \",z)\n",
    "\n",
    "y[0] = y[0][0:3] + 'k'          # Statement 6\n",
    "y[1][1:3] = [5,8] \n",
    "w[4][0] = 1000                  # Statement 9\n",
    "a = (x[4][1] == 4)              # Statement 10\n",
    "print(\"z is \",z)\n",
    "print(\"x is \",x)\n",
    "print(\"y is\",y)\n",
    "print(\"w is\",w)\n",
    "print(a)"
   ]
  },
  {
   "cell_type": "code",
   "execution_count": 82,
   "metadata": {},
   "outputs": [
    {
     "name": "stdout",
     "output_type": "stream",
     "text": [
      "487 397 357 487\n"
     ]
    }
   ],
   "source": [
    "x = [589,'big',397,'bash']\n",
    "y = x[2:]\n",
    "u = x\n",
    "w = y\n",
    "w = w[0:]\n",
    "w[0] = 357\n",
    "x[2:3] = [487]\n",
    "print(x[2],y[0],w[0],u[2])"
   ]
  },
  {
   "cell_type": "code",
   "execution_count": 85,
   "metadata": {},
   "outputs": [
    {
     "name": "stdout",
     "output_type": "stream",
     "text": [
      "e\n",
      "oe\n",
      "soe\n",
      "dsoe\n",
      "edsoe\n",
      "aedsoe\n"
     ]
    },
    {
     "data": {
      "text/plain": [
       "'aedsoe'"
      ]
     },
     "execution_count": 85,
     "metadata": {},
     "output_type": "execute_result"
    }
   ],
   "source": [
    "first = \"kaleidoscope\"\n",
    "second = \"\"\n",
    "for i in range(len(first)-1,-1,-2):\n",
    "    second = first[i]+second\n",
    "    print(second)\n",
    "second"
   ]
  },
  {
   "cell_type": "code",
   "execution_count": 86,
   "metadata": {},
   "outputs": [
    {
     "name": "stdout",
     "output_type": "stream",
     "text": [
      "11\n",
      "9\n",
      "7\n",
      "5\n",
      "3\n",
      "1\n"
     ]
    }
   ],
   "source": [
    "for i in range(len(first)-1,-1,-2):\n",
    "    print(i)\n"
   ]
  },
  {
   "cell_type": "code",
   "execution_count": 88,
   "metadata": {},
   "outputs": [
    {
     "name": "stdout",
     "output_type": "stream",
     "text": [
      "[88, 53, 12, 88, 53, 97, 62]\n"
     ]
    }
   ],
   "source": [
    "def mystery(l):\n",
    "    l[0:2] = l[3:5]\n",
    "    return()\n",
    "list1 = [34,17,12,88,53,97,62]\n",
    "mystery(list1)\n",
    "print(list1)"
   ]
  },
  {
   "cell_type": "raw",
   "metadata": {},
   "source": [
    "# Only read these n try we will solve in next class:\n",
    "\n",
    "Que 1 )Define a Python function remdup(l) that takes a nonempty list of integers l and removes all duplicates in l, keeping only the last occurrence of each number. For instance:\n",
    ">>> remdup([3,1,3,5])\n",
    "[1, 3, 5]\n",
    "\n",
    ">>> remdup([7,3,-1,-5])\n",
    "[7, 3, -1, -5]\n",
    "\n",
    ">>> remdup([3,5,7,5,3,7,10])\n",
    "[5, 3, 7, 10]\n"
   ]
  },
  {
   "cell_type": "code",
   "execution_count": 33,
   "metadata": {},
   "outputs": [
    {
     "name": "stdout",
     "output_type": "stream",
     "text": [
      "[5, 3, 7, 10]\n"
     ]
    }
   ],
   "source": [
    "def remdup(l):\n",
    "    if len(l)<=1:\n",
    "        return l\n",
    "    if l[0] in l[1:]:\n",
    "        return remdup(l[1:])\n",
    "    else:\n",
    "        return [l[0]]+remdup(l[1:])\n",
    "l=[3,5,7,5,3,7,10]\n",
    "print(remdup(l))"
   ]
  },
  {
   "cell_type": "markdown",
   "metadata": {},
   "source": [
    "Que 2)Write a Python function splitsum(l) that takes a nonempty list of integers and returns a list [pos,neg], where pos is the sum of squares all the positive numbers in l and neg is the sum of cubes of all the negative numbers in l.\n",
    "Here are some examples to show how your function should work.\n",
    "splitsum([1,3,-5])\n",
    "\n",
    "[10, -125]\n",
    "\n",
    " splitsum([2,4,6])\n",
    " \n",
    "[56, 0]\n",
    "\n",
    " splitsum([-19,-7,-6,0])\n",
    " \n",
    "[0, -7418]\n",
    "\n",
    " splitsum([-1,2,3,-7])\n",
    " \n",
    "[13, -344]\n"
   ]
  },
  {
   "cell_type": "code",
   "execution_count": 57,
   "metadata": {},
   "outputs": [
    {
     "name": "stdout",
     "output_type": "stream",
     "text": [
      "[0, -7418]\n"
     ]
    }
   ],
   "source": [
    "def splitsum(l):\n",
    "    s=[]\n",
    "    j=0\n",
    "    p=0\n",
    "    for i in l:\n",
    "        if i>0:\n",
    "            p=p+i**2\n",
    "        else:\n",
    "            j=j+i**3\n",
    "    return [p]+[j]\n",
    "#l=[1,3,-5]\n",
    "l=[-19,-7,-6,0]\n",
    "print(splitsum(l))"
   ]
  },
  {
   "cell_type": "markdown",
   "metadata": {},
   "source": [
    "Que 3)\n",
    "\n",
    "A two dimensional matrix can be represented in Python row-wise, as a list of lists: each inner list represents one row of the matrix. For instance, the matrix\n",
    "1  2  3\n",
    "4  5  6 \n",
    "7  8  9\n",
    "\n",
    "would be represented as [[1, 2, 3], [4, 5, 6], [7, 8, 9]].\n",
    "A horizonatal flip reflects each row. For instance, if we flip the previous matrix horizontally, we get\n",
    "3  2  1\n",
    "6  5  4 \n",
    "9  8  7\n",
    "\n",
    "which would be represented as [[3, 2, 1], [6, 5, 4], [9, 8, 7]].\n",
    "A vertical flip reflects each column. For instance, if we flip the previous matrix that has already been flipped horizontally, we get\n",
    "9  8  7\n",
    "6  5  4 \n",
    "3  2  1\n",
    "\n",
    "which would be represented as [[9, 8, 7], [6, 5, 4], [3, 2, 1]].\n",
    "Write a Python function matrixflip(m,d) that takes as input a two dimensional matrix m and a direction d, where d is either 'h' or 'v'. If d == 'h', the function should return the matrix flipped horizontally. If d == 'v', the function should retun the matrix flipped vertically. For any other value of d, the function should return m unchanged. In all cases, the argument m should remain undisturbed by the function.\n",
    "Here are some examples to show how your function should work. You may assume that the input to the function is always a non-empty matrix.\n",
    "myl = [[1,2],[3,4]]\n",
    "\n",
    "myl\n",
    "\n",
    "[[1, 2], [3, 4]]  \n",
    "\n",
    "matrixflip(myl,'h')\n",
    "\n",
    "[[2, 1], [4, 3]]\n",
    "\n",
    "myl\n",
    "\n",
    "[[1, 2], [3, 4]]  \n",
    "\n",
    "matrixflip(myl,'v')\n",
    "\n",
    "[[3, 4], [1, 2]]  \n",
    "\n",
    "myl\n",
    "\n",
    "[[1, 2], [3, 4]]  \n",
    "\n",
    "matrixflip(matrixflip(myl,'h'),'v')\n",
    "\n",
    "[[4, 3], [2, 1]]\n",
    "\n",
    "myl\n",
    "\n",
    "[[1, 2], [3, 4]]  \n",
    "\n",
    "matrixflip(matrixflip(myl,'h'),'v')\n",
    "\n",
    "[[4, 3], [2, 1]]\n",
    "\n",
    " myl\n",
    "\n",
    "[[1, 2], [3, 4]]  \n"
   ]
  },
  {
   "cell_type": "code",
   "execution_count": 78,
   "metadata": {},
   "outputs": [
    {
     "name": "stdout",
     "output_type": "stream",
     "text": [
      "[[2, 1], [4, 3]]\n"
     ]
    }
   ],
   "source": [
    "def matrix_flip(l,d):\n",
    "    out=[]\n",
    "    for i in l:\n",
    "        out.append(i)\n",
    "    if d=='h':\n",
    "        for i in out:\n",
    "            i.reverse()\n",
    "    else:\n",
    "        out.reverse()\n",
    "    return out\n",
    "        \n",
    "l=[[4, 3], [2, 1]]\n",
    "print(matrix_flip(l,'v'))"
   ]
  },
  {
   "cell_type": "markdown",
   "metadata": {},
   "source": [
    "25/6/2021 Day2\n",
    "Dictionary\n",
    "\n",
    "1. Merge two dictionaries.\n",
    "\n",
    "    Dict_1: {“FirstName”:”Rahul”, “age”:9}       \n",
    "    \n",
    "    Dict2: {“LastName”:”Vaidya”, “class”:10}\n",
    "\n"
   ]
  },
  {
   "cell_type": "code",
   "execution_count": 9,
   "metadata": {},
   "outputs": [
    {
     "name": "stdout",
     "output_type": "stream",
     "text": [
      "{'FirstName': 'Rahul', 'age': 9, 'LastName': 'Vaidya', 'class': 10}\n"
     ]
    }
   ],
   "source": [
    "Dict_1={\"FirstName\":\"Rahul\", \"age\":9}\n",
    "\n",
    "Dict2={\"LastName\":\"Vaidya\", \"class\":10}\n",
    "Dict_1.update(Dict2)\n",
    "print(Dict_1)"
   ]
  },
  {
   "cell_type": "markdown",
   "metadata": {},
   "source": [
    "2. Sum all the values of keys in a dictionary.\n",
    "\n",
    "    Dictionary: {1:2, 3:4, 5:6, 7:8}\n"
   ]
  },
  {
   "cell_type": "code",
   "execution_count": 19,
   "metadata": {},
   "outputs": [
    {
     "name": "stdout",
     "output_type": "stream",
     "text": [
      "16\n"
     ]
    }
   ],
   "source": [
    "Dictionary={1:2, 3:4, 5:6, 7:8}\n",
    "qw=[]\n",
    "sum=0\n",
    "qw=(Dictionary.keys())\n",
    "for i in qw:\n",
    "    sum=sum+i\n",
    "    \n",
    "print(sum)"
   ]
  },
  {
   "cell_type": "markdown",
   "metadata": {},
   "source": [
    "3. Count the values associated with each key in a dictionary. If number of values associated with any key is greater than equal to 5, remove the last element from that value.\n",
    "\n",
    "    Dictionary: {1:[1,2,3], 2:[2,3,4,5], 3:[2,3,4,5,6], 4:[1,2]}\n",
    "\n",
    "    Output: {1:[1,2,3], 2:[2,3,4,5], 3:[2,3,4,5], 4:[1,2]}\n"
   ]
  },
  {
   "cell_type": "code",
   "execution_count": 7,
   "metadata": {},
   "outputs": [
    {
     "name": "stdout",
     "output_type": "stream",
     "text": [
      "{1: [1, 2, 3], 2: [2, 3, 4, 5], 3: [2, 3, 4, 5], 4: [1, 2]}\n"
     ]
    }
   ],
   "source": [
    "Dictionary={1:[1,2,3], 2:[2,3,4,5], 3:[2,3,4,5,6], 4:[1,2]}\n",
    "h=Dictionary.values()\n",
    "for i in h:\n",
    "    if len(i)>=5:\n",
    "        i.pop()\n",
    "        \n",
    "print(Dictionary)"
   ]
  },
  {
   "cell_type": "markdown",
   "metadata": {},
   "source": [
    "4. Make a list of unique values from dictionary values.\n",
    "\n",
    "    Dictionary: {“apple”: 1, “mango”: 2, “orange”:1, “banana”:2}\n"
   ]
  },
  {
   "cell_type": "code",
   "execution_count": 13,
   "metadata": {},
   "outputs": [
    {
     "name": "stdout",
     "output_type": "stream",
     "text": [
      "[1, 2]\n"
     ]
    }
   ],
   "source": [
    "Dictionary= {'apple': 1, 'mango': 2, 'orange':1, 'banana':2}\n",
    "print(list(set(Dictionary.values())))"
   ]
  },
  {
   "cell_type": "markdown",
   "metadata": {},
   "source": [
    "5. Make a dictionary. The items in the list should be keys in the dictionary and their corresponding index should be values of the keys.\n",
    "\n",
    "    [2,68,7,8,98,70]\n"
   ]
  },
  {
   "cell_type": "code",
   "execution_count": 33,
   "metadata": {},
   "outputs": [
    {
     "name": "stdout",
     "output_type": "stream",
     "text": [
      "{2: 0, 68: 1, 7: 2, 8: 3, 98: 4, 70: 5}\n"
     ]
    }
   ],
   "source": [
    "kl=dict({})\n",
    "key=[2,68,7,8,98,70]\n",
    "for i in key:\n",
    "    kl[i]=key.index(i)\n",
    "print(kl)"
   ]
  },
  {
   "cell_type": "markdown",
   "metadata": {},
   "source": [
    "6. Access the value of key ‘python2’:\n",
    "\n",
    "sampleDict = { \n",
    "\n",
    "   \"sabudh\":{ \n",
    "\n",
    "      \"intern\":{ \n",
    "\n",
    "         \"name\":\"Mike\",\n",
    "\n",
    "         \"marks\":{ \n",
    "\n",
    "            \"python1\":70,\n",
    "\n",
    "            \"python2\":80\n",
    "\n",
    "         }\n",
    "\n",
    "      }\n",
    "\n",
    "   }\n",
    "\n",
    "}\n"
   ]
  },
  {
   "cell_type": "code",
   "execution_count": 87,
   "metadata": {},
   "outputs": [
    {
     "name": "stdout",
     "output_type": "stream",
     "text": [
      "80\n"
     ]
    }
   ],
   "source": [
    "sampleDict = {\"sabudh\":{ \"intern\":{ \"name\":\"Mike\",\"marks\":{\"python1\":70,\"python2\":80} }}}\n",
    "sampleDict.values()\n",
    "fg=dict({})\n",
    "for i in sampleDict.values():\n",
    "    for j in i.values():\n",
    "        w=j.pop('marks')\n",
    "print(w['python2'])"
   ]
  },
  {
   "cell_type": "markdown",
   "metadata": {},
   "source": [
    "7.  Check if a value ‘bunny’ exists in a dictionary:\n",
    "\n",
    "sampleDict = {'a': ‘antelope’, 'b': ‘bunny’, 'c': ‘cat’}\n"
   ]
  },
  {
   "cell_type": "code",
   "execution_count": 89,
   "metadata": {},
   "outputs": [
    {
     "name": "stdout",
     "output_type": "stream",
     "text": [
      "YES\n"
     ]
    }
   ],
   "source": [
    "sampleDict = {'a': 'antelope', 'b': 'bunny', 'c': 'cat'}\n",
    "if 'bunny' in sampleDict.values():\n",
    "    print('YES')\n",
    "else:\n",
    "    print(\"NO\")"
   ]
  },
  {
   "cell_type": "markdown",
   "metadata": {},
   "source": [
    "# TUPLE"
   ]
  },
  {
   "cell_type": "markdown",
   "metadata": {},
   "source": [
    "### 1.  Create a tuple with single item 50.\n"
   ]
  },
  {
   "cell_type": "code",
   "execution_count": 14,
   "metadata": {},
   "outputs": [
    {
     "data": {
      "text/plain": [
       "(50,)"
      ]
     },
     "execution_count": 14,
     "metadata": {},
     "output_type": "execute_result"
    }
   ],
   "source": [
    "y=[50]\n",
    "tuple(y)"
   ]
  },
  {
   "cell_type": "markdown",
   "metadata": {},
   "source": [
    "### 2. Access value 20 from the following tuple:\n",
    "\taTuple = (\"Orange\", [10, ( 20, 30), 40], (5, 15, 25)).\n"
   ]
  },
  {
   "cell_type": "code",
   "execution_count": 16,
   "metadata": {},
   "outputs": [
    {
     "data": {
      "text/plain": [
       "20"
      ]
     },
     "execution_count": 16,
     "metadata": {},
     "output_type": "execute_result"
    }
   ],
   "source": [
    "aTuple = (\"Orange\", [10, ( 20, 30), 40], (5, 15, 25))\n",
    "aTuple[1][1][0]"
   ]
  },
  {
   "cell_type": "markdown",
   "metadata": {},
   "source": [
    "### 3. Copy element 44 and 55 from the following tuple into a new empty tuple\n",
    " \ttuple1 = (11, 22, 33, 44, 55, 66)\n"
   ]
  },
  {
   "cell_type": "code",
   "execution_count": 19,
   "metadata": {},
   "outputs": [
    {
     "name": "stdout",
     "output_type": "stream",
     "text": [
      "(44, 55)\n"
     ]
    }
   ],
   "source": [
    "tuple1 = (11, 22, 33, 44, 55, 66)\n",
    "t=tuple1[3:5]\n",
    "print(t)"
   ]
  },
  {
   "cell_type": "markdown",
   "metadata": {},
   "source": [
    "#### 4. Counts the number of occurrences of integer 50 from a tuple(considering mutable elements too.)\n",
    " \ttuple1 = (50, 10, 60, [40, 50, 60], 70, 50)\n"
   ]
  },
  {
   "cell_type": "code",
   "execution_count": 24,
   "metadata": {},
   "outputs": [
    {
     "name": "stdout",
     "output_type": "stream",
     "text": [
      "3\n"
     ]
    }
   ],
   "source": [
    "tuple1 = (50, 10, 60, [40, 50, 60], 70, 50)\n",
    "tuple1.count(50)\n",
    "count=0\n",
    "for  i in tuple1:\n",
    "    if type(i)==int and i==50:\n",
    "        count+=1\n",
    "    elif type(i)==list:\n",
    "        for j in i:\n",
    "            if j==50:\n",
    "                count+=1\n",
    "print(count)"
   ]
  },
  {
   "cell_type": "markdown",
   "metadata": {},
   "source": [
    "### 5. Swap the following two tuples: \n",
    "        tuple1 = (11, 22, 33, 44, 55)\n",
    "        tuple2 = (99, 88, 77, 66, 00)\n",
    "    Out: tuple1 = (99, 88, 77, 66, 00)\n",
    "         tuple2 = (11, 22, 33, 44, 55)\n"
   ]
  },
  {
   "cell_type": "code",
   "execution_count": 28,
   "metadata": {},
   "outputs": [
    {
     "name": "stdout",
     "output_type": "stream",
     "text": [
      "(99, 88, 77, 66, 0)\n",
      "(11, 22, 33, 44, 55)\n"
     ]
    }
   ],
   "source": [
    "tuple1 = (11, 22, 33, 44, 55)\n",
    "tuple2 = (99, 88, 77, 66, 0)\n",
    "tuple1,tuple2=tuple2,tuple1\n",
    "print(tuple1)\n",
    "print(tuple2)"
   ]
  },
  {
   "cell_type": "markdown",
   "metadata": {},
   "source": [
    "### 6. Replace item 8 with “Python Programming”.\n",
    "\tmy_tuple = (9, 10, “hi”, [7, 8])\n",
    "\tOut : (9, 10, “hi”, [7, “Python Programming”])\n"
   ]
  },
  {
   "cell_type": "code",
   "execution_count": 30,
   "metadata": {},
   "outputs": [
    {
     "data": {
      "text/plain": [
       "(9, 10, 'hi', [7, 'Python Programming'])"
      ]
     },
     "execution_count": 30,
     "metadata": {},
     "output_type": "execute_result"
    }
   ],
   "source": [
    "my_tuple = (9, 10, \"hi\", [7, 8])\n",
    "my_tuple[3][1]=\"Python Programming\"\n",
    "my_tuple"
   ]
  },
  {
   "cell_type": "markdown",
   "metadata": {},
   "source": [
    "### 7. Original tuple: (10, 20, 40, 5, 70)\n",
    "\tConvert the said tuple of positive integers into an integer:\n",
    "\tExpected out: 102040570\n"
   ]
  },
  {
   "cell_type": "code",
   "execution_count": 42,
   "metadata": {},
   "outputs": [
    {
     "name": "stdout",
     "output_type": "stream",
     "text": [
      "102040570\n"
     ]
    }
   ],
   "source": [
    "Original_tuple=(10, 20, 40, 5, 70)\n",
    "    \n",
    "print(*Original_tuple,sep='')"
   ]
  },
  {
   "cell_type": "markdown",
   "metadata": {},
   "source": [
    "### 8. Check if a specified element presents in a tuple of tuples.\n",
    "\tOriginal tuple: (('Red', 'White', 'Blue'), ('Green', 'Pink', 'Purple'), ('Orange', 'Yellow', 'Lime'))\n",
    "\tCheck if White presenet in said tuple of tuples!\n",
    "\tCheck if White presenet in said tuple of tuples!\n",
    "\tCheck if Olive presenet in said tuple of tuples!\n"
   ]
  },
  {
   "cell_type": "code",
   "execution_count": 51,
   "metadata": {},
   "outputs": [
    {
     "name": "stdout",
     "output_type": "stream",
     "text": [
      "White tuple of tuples!\n"
     ]
    }
   ],
   "source": [
    "Original_tuple= (('Red', 'White', 'Blue'), ('Green', 'Pink', 'Purple'), ('Orange', 'Yellow', 'Lime'))\n",
    "for i in range(3):\n",
    "    for j in range(3):\n",
    "        if Original_tuple[i][j]=='White':\n",
    "            print(Original_tuple[i][j],\"tuple of tuples!\")\n",
    "        \"\"\"elif Original_tuple[i][j]=='Olive':\n",
    "            print(Original_tuple[i][j],\"tuple of tuples!\")\n",
    "        else:\n",
    "            print(Original_tuple[i][j],\" NOT in tuple of tuples!\")\"\"\""
   ]
  },
  {
   "cell_type": "markdown",
   "metadata": {},
   "source": [
    "# SETS"
   ]
  },
  {
   "cell_type": "markdown",
   "metadata": {},
   "source": [
    "### A = {1,5, 3, 7}\n",
    "   B = {2, 4, 6, 8}\n",
    "   Given set = {1, 3, 7, 6, 8}\n"
   ]
  },
  {
   "cell_type": "code",
   "execution_count": 54,
   "metadata": {},
   "outputs": [
    {
     "name": "stdout",
     "output_type": "stream",
     "text": [
      "1\n"
     ]
    }
   ],
   "source": [
    "A = {1,5, 3, 7}\n",
    "B = {2, 4, 6, 8}\n",
    "Given_set = {1, 3, 7, 6, 8}\n",
    "happiness=0\n",
    "for i in Given_set:\n",
    "    if i in A:\n",
    "        happiness+=1\n",
    "    if i in B:\n",
    "        happiness-=1\n",
    "        \n",
    "print(happiness)"
   ]
  },
  {
   "cell_type": "markdown",
   "metadata": {},
   "source": [
    "### 2. Check if a set A is a subset of set B.\n",
    "A = {“a”, “b”, “c”,”e”}\n",
    "B = {“a”, “c”, “d”, “b”, “e”, “f”}\n"
   ]
  },
  {
   "cell_type": "code",
   "execution_count": 56,
   "metadata": {},
   "outputs": [
    {
     "data": {
      "text/plain": [
       "True"
      ]
     },
     "execution_count": 56,
     "metadata": {},
     "output_type": "execute_result"
    }
   ],
   "source": [
    "A={'a','b','c','e'}\n",
    "B={'a','b','c','d','e','f'}\n",
    "A.issubset(B)"
   ]
  },
  {
   "cell_type": "markdown",
   "metadata": {},
   "source": [
    "### 3. Store all the unique elements present in the given list in variable unique_elem.\n",
    "list_1 = [1, 2, 2, 3, 4, 5, 3, 5, 5, 5, 3]\n"
   ]
  },
  {
   "cell_type": "code",
   "execution_count": 58,
   "metadata": {},
   "outputs": [
    {
     "data": {
      "text/plain": [
       "{1, 2, 3, 4, 5}"
      ]
     },
     "execution_count": 58,
     "metadata": {},
     "output_type": "execute_result"
    }
   ],
   "source": [
    "list_1 = [1, 2, 2, 3, 4, 5, 3, 5, 5, 5, 3]\n",
    "set(list_1)"
   ]
  },
  {
   "cell_type": "markdown",
   "metadata": {},
   "source": [
    "### 4. Check if two given sets have no elements in common.\n",
    "A = {“dad”, “bought”, “me”, “grapes”}\n",
    "B = {“grapes”, “are”, “sour”}\n"
   ]
  },
  {
   "cell_type": "code",
   "execution_count": 63,
   "metadata": {},
   "outputs": [
    {
     "name": "stdout",
     "output_type": "stream",
     "text": [
      "grapes  is common\n"
     ]
    }
   ],
   "source": [
    "A = {'dad', 'bought', 'me', 'grapes'}\n",
    "B = {'grapes', 'are', \"sour\"}\n",
    "for i in A:\n",
    "    if i in B:\n",
    "        print(i,\" is common\")"
   ]
  },
  {
   "cell_type": "markdown",
   "metadata": {},
   "source": [
    "### 5. Remove the intersection of a 2nd set from the 1st set. \n",
    "A = {1, 8, 9, 10, 27}             B = {9, 8, 15, 78}\n"
   ]
  },
  {
   "cell_type": "code",
   "execution_count": 64,
   "metadata": {},
   "outputs": [
    {
     "data": {
      "text/plain": [
       "{8, 9}"
      ]
     },
     "execution_count": 64,
     "metadata": {},
     "output_type": "execute_result"
    }
   ],
   "source": [
    "A = {1, 8, 9, 10, 27}\n",
    "B = {9, 8, 15, 78}\n",
    "A&B"
   ]
  },
  {
   "cell_type": "markdown",
   "metadata": {},
   "source": [
    "### 6. Add elements of list to the given set.\n",
    "A = {“1st”, “2nd”, 3rd”}\n",
    "list_1 = [“Austria”, “America”, “Australia”]\n"
   ]
  },
  {
   "cell_type": "code",
   "execution_count": 68,
   "metadata": {},
   "outputs": [
    {
     "name": "stdout",
     "output_type": "stream",
     "text": [
      "None\n",
      "{'1st', 'Austria', 'America', '3rd', 'Australia', '2nd'}\n"
     ]
    }
   ],
   "source": [
    "A = {'1st', '2nd','3rd'}\n",
    "list_1 = ['Austria', 'America', 'Australia']\n",
    "B=set(list_1)\n",
    "A|B\n",
    "A.update(list_1)\n",
    "print(A)"
   ]
  },
  {
   "cell_type": "markdown",
   "metadata": {},
   "source": [
    "### 7. Remove green, blue, black elements from a following set at once\n",
    "set1 = {“green”, “blue”, “black”, “yellow”, “orange”}\n"
   ]
  },
  {
   "cell_type": "code",
   "execution_count": 69,
   "metadata": {},
   "outputs": [
    {
     "data": {
      "text/plain": [
       "{'orange', 'yellow'}"
      ]
     },
     "execution_count": 69,
     "metadata": {},
     "output_type": "execute_result"
    }
   ],
   "source": [
    "set1 = {'green', 'blue', 'black', 'yellow', 'orange'}\n",
    "a={'green','blue','black'}\n",
    "set1-a"
   ]
  },
  {
   "cell_type": "markdown",
   "metadata": {},
   "source": [
    "### 8. Print True, if is a strict superset of each of the sets. Otherwise, print False. A strict superset has at least one element that does not exist in its subset.\n",
    "Example\n",
    "Set A ({1,6, 7}) is a strict superset of  set B ({1,7}) .\n",
    "Set A ({1,6, 7}) is not a strict superset of set C ({1, 6, 7})\n"
   ]
  },
  {
   "cell_type": "code",
   "execution_count": 85,
   "metadata": {},
   "outputs": [
    {
     "name": "stdout",
     "output_type": "stream",
     "text": [
      "True\n"
     ]
    }
   ],
   "source": [
    "Set_A ={1,6, 7}\n",
    "set_B={1,7}\n",
    "    \n",
    "if len(Set_A-set_B)>0:\n",
    "    print(\"True\")\n",
    "else:\n",
    "    print(\"False\")"
   ]
  },
  {
   "cell_type": "markdown",
   "metadata": {},
   "source": [
    "# 17/7/2021\n",
    "   \n",
    "Home Work\n"
   ]
  },
  {
   "cell_type": "markdown",
   "metadata": {},
   "source": [
    "### 1.Check whether the following numbers are palindrome: 123, 1571, 818.\n"
   ]
  },
  {
   "cell_type": "code",
   "execution_count": 103,
   "metadata": {},
   "outputs": [
    {
     "name": "stdout",
     "output_type": "stream",
     "text": [
      "Not Palidrome\n",
      "Not Palidrome\n",
      "Palidrome\n"
     ]
    }
   ],
   "source": [
    "def palidrome(s):\n",
    "    for i in s:\n",
    "        if i==i[::-1]:\n",
    "            print(\"Palidrome\")\n",
    "        else:\n",
    "            print(\"Not Palidrome\")\n",
    "        \n",
    "s=['123','1571','818']\n",
    "palidrome(s)"
   ]
  },
  {
   "cell_type": "raw",
   "metadata": {},
   "source": [
    "2. Print the pattern\n",
    "\n",
    "*\n",
    "* *\n",
    "* * *\n",
    "* * * *\n",
    "* * *\n",
    "* *\n",
    "*"
   ]
  },
  {
   "cell_type": "code",
   "execution_count": 148,
   "metadata": {},
   "outputs": [
    {
     "name": "stdout",
     "output_type": "stream",
     "text": [
      "* \n",
      "\n",
      "* * \n",
      "\n",
      "* * * \n",
      "\n",
      "* * * * \n",
      "\n",
      "* * * \n",
      "\n",
      "* * \n",
      "\n",
      "* \n",
      "\n"
     ]
    }
   ],
   "source": [
    "for  i in range(7):\n",
    "    for j in range(4):\n",
    "        if j+i<=6 and j<=i:\n",
    "            print(\"*\",end=\" \")\n",
    "            \n",
    "    print(\"\\n\")"
   ]
  },
  {
   "cell_type": "code",
   "execution_count": null,
   "metadata": {},
   "outputs": [],
   "source": []
  }
 ],
 "metadata": {
  "kernelspec": {
   "display_name": "Python 3",
   "language": "python",
   "name": "python3"
  },
  "language_info": {
   "codemirror_mode": {
    "name": "ipython",
    "version": 3
   },
   "file_extension": ".py",
   "mimetype": "text/x-python",
   "name": "python",
   "nbconvert_exporter": "python",
   "pygments_lexer": "ipython3",
   "version": "3.8.5"
  }
 },
 "nbformat": 4,
 "nbformat_minor": 4
}
