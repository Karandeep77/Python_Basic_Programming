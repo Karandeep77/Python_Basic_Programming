{
 "cells": [
  {
   "cell_type": "markdown",
   "metadata": {},
   "source": [
    "# Binary Search"
   ]
  },
  {
   "cell_type": "code",
   "execution_count": 17,
   "metadata": {},
   "outputs": [
    {
     "name": "stdout",
     "output_type": "stream",
     "text": [
      "[1, 2, 3, 4, 5, 6, 7, 8, 9, 34, 36, 47, 56, 75]\n",
      "Enter number u want to find 36\n"
     ]
    },
    {
     "data": {
      "text/plain": [
       "11"
      ]
     },
     "execution_count": 17,
     "metadata": {},
     "output_type": "execute_result"
    }
   ],
   "source": [
    "l=[1,2,3,4,5,6,7,8,9,34,36,47,56,75]\n",
    "print(l)\n",
    "n=int(input(\"Enter number u want to find \"))\n",
    "def binary_search(l,n):\n",
    "    first=0\n",
    "    end=len(l)-1\n",
    "    while first<=end:\n",
    "        mid=int(first+(end-first)/2)\n",
    "        if l[mid]==n:\n",
    "            return mid+1\n",
    "        elif l[mid]>n:\n",
    "            end=mid-1\n",
    "        elif l[mid]<n:\n",
    "            first=mid+1\n",
    "            \n",
    "binary_search(l,n)"
   ]
  },
  {
   "cell_type": "markdown",
   "metadata": {},
   "source": [
    "# Binary search with recursion"
   ]
  },
  {
   "cell_type": "code",
   "execution_count": 28,
   "metadata": {},
   "outputs": [
    {
     "name": "stdout",
     "output_type": "stream",
     "text": [
      "[1, 2, 3, 4, 5, 6, 7, 8, 9, 34, 36, 47, 56, 75]\n",
      "Enter number u want to find 36\n"
     ]
    },
    {
     "data": {
      "text/plain": [
       "11"
      ]
     },
     "execution_count": 28,
     "metadata": {},
     "output_type": "execute_result"
    }
   ],
   "source": [
    "l=[1,2,3,4,5,6,7,8,9,34,36,47,56,75]\n",
    "print(l)\n",
    "start=0\n",
    "end=len(l)-1\n",
    "n=int(input(\"Enter number u want to find \"))\n",
    "def binary_search(l,first,high,n):\n",
    "    global start\n",
    "    start=first\n",
    "    global end\n",
    "    end = high\n",
    "    while start<=end:\n",
    "        mid=int(start+(end-start)/2)\n",
    "        if l[mid]==n:\n",
    "            return mid+1\n",
    "        elif l[mid]>n:\n",
    "            return binary_search(l,start,mid-1,n)\n",
    "        elif l[mid]<n:\n",
    "            return binary_search(l,mid+1,end,n)\n",
    "    return -1\n",
    "binary_search(l,start,end,n)"
   ]
  },
  {
   "cell_type": "markdown",
   "metadata": {},
   "source": [
    "# Selection Sort"
   ]
  },
  {
   "cell_type": "code",
   "execution_count": 12,
   "metadata": {},
   "outputs": [
    {
     "name": "stdout",
     "output_type": "stream",
     "text": [
      "[4, 5, 6, 23, 77, 456, 534]\n"
     ]
    }
   ],
   "source": [
    "l=[23,5,77,6,4,534,456]\n",
    "n=len(l)\n",
    "for i in range(n):\n",
    "    minn=l[i]\n",
    "    for j in range(i+1,n):\n",
    "        minn=min(l[j],minn)\n",
    "    a=l.index(minn)\n",
    "    #print('a= ',a)\n",
    "    l[i],l[a]=l[a],l[i]\n",
    "    #print(\"l[i] = \",l[i],\" minn = \",minn)\n",
    "    \n",
    "print(l)"
   ]
  },
  {
   "cell_type": "markdown",
   "metadata": {},
   "source": [
    "# Bubble Sort"
   ]
  },
  {
   "cell_type": "code",
   "execution_count": 7,
   "metadata": {},
   "outputs": [
    {
     "name": "stdout",
     "output_type": "stream",
     "text": [
      "[5, 6, 7, 23, 23, 46, 423, 858]\n"
     ]
    }
   ],
   "source": [
    "l=[23,5,6,23,423,46,858,7]\n",
    "n=len(l)\n",
    "for i in range(n):\n",
    "    for j in range(0,n-i-1):\n",
    "        if l[j]>l[j+1]:\n",
    "            l[j],l[j+1]=l[j+1],l[j]\n",
    "            \n",
    "print(l)"
   ]
  },
  {
   "cell_type": "markdown",
   "metadata": {},
   "source": [
    "# Insertion Sort"
   ]
  },
  {
   "cell_type": "code",
   "execution_count": 21,
   "metadata": {},
   "outputs": [
    {
     "name": "stdout",
     "output_type": "stream",
     "text": [
      "[7, 23, 42, 46, 54, 634, 858]\n"
     ]
    }
   ],
   "source": [
    "l=[23,54,634,42,46,858,7]\n",
    "n=len(l)\n",
    "for i in range(1,n):\n",
    "    current=l[i]\n",
    "    j = i-1\n",
    "    while j >=0 and current < l[j] :\n",
    "            l[j+1] = l[j]\n",
    "            j -= 1\n",
    "\n",
    "    \n",
    "    l[j+1]=current\n",
    "print(l)"
   ]
  }
 ],
 "metadata": {
  "kernelspec": {
   "display_name": "Python 3",
   "language": "python",
   "name": "python3"
  },
  "language_info": {
   "codemirror_mode": {
    "name": "ipython",
    "version": 3
   },
   "file_extension": ".py",
   "mimetype": "text/x-python",
   "name": "python",
   "nbconvert_exporter": "python",
   "pygments_lexer": "ipython3",
   "version": "3.8.5"
  }
 },
 "nbformat": 4,
 "nbformat_minor": 4
}
